{
 "cells": [
  {
   "cell_type": "code",
   "execution_count": 1,
   "id": "a0f9140e",
   "metadata": {},
   "outputs": [],
   "source": [
    "#import libraries \n",
    "import numpy as np\n",
    "import pandas as pd"
   ]
  },
  {
   "cell_type": "code",
   "execution_count": 2,
   "id": "1c2ebb4f",
   "metadata": {},
   "outputs": [],
   "source": [
    "#import dataset\n",
    "from sklearn.datasets import make_classification"
   ]
  },
  {
   "cell_type": "code",
   "execution_count": null,
   "id": "bad617fd",
   "metadata": {},
   "outputs": [],
   "source": [
    "#load imported dataset or Generate dataset \n",
    "\n",
    "#Creating our own dataset for classification\n",
    "\n",
    "X, y = make_classification(\n",
    "    n_samples=5000, \n",
    "    n_features=20, \n",
    "    n_informative=8, \n",
    "    weights=[0.7, 0.3], \n",
    "    random_state=42\n",
    ")\n"
   ]
  },
  {
   "cell_type": "code",
   "execution_count": 9,
   "id": "d6f405e4",
   "metadata": {},
   "outputs": [
    {
     "name": "stdout",
     "output_type": "stream",
     "text": [
      "         f0        f1        f2        f3        f4        f5        f6  \\\n",
      "0  0.032985 -0.283306  1.180099 -0.422760  0.913161  0.642446  0.381665   \n",
      "1  0.052943  0.439957  0.457500  1.178431  1.465360 -0.283445 -0.646063   \n",
      "2  0.074370  0.799288 -0.380558  1.290621 -0.505580  1.114143  0.126365   \n",
      "3 -0.934456 -0.868529  0.930205  0.227035  0.807652 -1.576970  0.575129   \n",
      "4 -1.487942  1.306670  0.597409  1.187606 -2.017679  1.729740  0.642929   \n",
      "\n",
      "         f7        f8        f9  ...       f11       f12       f13       f14  \\\n",
      "0  1.427102 -2.863790  3.338729  ...  1.637377 -0.197745 -0.513253 -0.749140   \n",
      "1  2.865970  0.105887  0.378520  ... -2.353221 -1.515383 -0.432116 -0.316922   \n",
      "2  1.407926 -1.675725  2.340577  ...  2.230927 -0.091650  0.254651 -0.156606   \n",
      "3  0.162097 -4.018082  1.033753  ...  0.866114  2.677998 -1.060760  0.400907   \n",
      "4 -0.148422  1.306610 -0.584630  ...  0.194529  1.041147  1.236879  2.054205   \n",
      "\n",
      "        f15       f16       f17       f18       f19  churn  \n",
      "0 -0.858640 -0.471144  1.034298  0.382845 -0.271199      0  \n",
      "1  0.378060 -1.177635 -2.664698  0.149931 -2.555098      0  \n",
      "2 -1.880455 -1.372458 -0.392245  0.289876  0.756978      0  \n",
      "3 -0.366963  1.610393  0.617880  0.096076  0.515509      0  \n",
      "4  1.548934 -0.194171  0.881578  1.679651  0.070779      1  \n",
      "\n",
      "[5 rows x 21 columns]\n"
     ]
    }
   ],
   "source": [
    "# Create DataFrame\n",
    "df = pd.DataFrame(X, columns=[f\"f{i}\" for i in range(X.shape[1])]).assign(churn=y)\n",
    "# Display first 5 rows\n",
    "print(df.head())"
   ]
  },
  {
   "cell_type": "code",
   "execution_count": 5,
   "id": "3e6cfae5",
   "metadata": {},
   "outputs": [
    {
     "data": {
      "text/plain": [
       "(5000, 21)"
      ]
     },
     "execution_count": 5,
     "metadata": {},
     "output_type": "execute_result"
    }
   ],
   "source": [
    "df.shape"
   ]
  },
  {
   "cell_type": "code",
   "execution_count": 25,
   "id": "c3de2e9c",
   "metadata": {},
   "outputs": [],
   "source": [
    "#import model selection\n",
    "from sklearn.model_selection import train_test_split\n",
    "\n",
    "\n",
    "#drop the column dependate \n",
    "df.drop('churn',axis=1)\n",
    "df['churn']\n",
    "\n",
    "X_train, X_test, y_train, y_test = train_test_split(X, y, test_size=0.2, random_state=42)"
   ]
  },
  {
   "cell_type": "code",
   "execution_count": 26,
   "id": "dd45b393",
   "metadata": {},
   "outputs": [],
   "source": [
    "#import standardscalr\n",
    "from sklearn.preprocessing import StandardScaler\n",
    "scaler = StandardScaler()"
   ]
  },
  {
   "cell_type": "code",
   "execution_count": 27,
   "id": "6e44a447",
   "metadata": {},
   "outputs": [],
   "source": [
    "X_train = scaler.fit_transform(X_train)\n",
    "X_test = scaler.transform(X_test)"
   ]
  },
  {
   "cell_type": "code",
   "execution_count": 31,
   "id": "531c8f23",
   "metadata": {},
   "outputs": [
    {
     "name": "stdout",
     "output_type": "stream",
     "text": [
      "ROC, AUC 0.9779772812288402\n",
      "              precision    recall  f1-score   support\n",
      "\n",
      "           0       0.94      0.98      0.96       697\n",
      "           1       0.95      0.85      0.90       303\n",
      "\n",
      "    accuracy                           0.94      1000\n",
      "   macro avg       0.94      0.91      0.93      1000\n",
      "weighted avg       0.94      0.94      0.94      1000\n",
      "\n"
     ]
    }
   ],
   "source": [
    "#Import Model\n",
    "from sklearn.ensemble import GradientBoostingClassifier\n",
    "model = GradientBoostingClassifier(n_estimators=100, random_state=42)\n",
    "\n",
    "model.fit(X_train, y_train)\n",
    "\n",
    "preds = model.predict(X_test)\n",
    "probs = model.predict_proba(X_test)[:,1]\n",
    "#import metrixs\n",
    "from sklearn.metrics import roc_auc_score, classification_report\n",
    "print(\"ROC, AUC\", roc_auc_score(y_test, probs))\n",
    "print(classification_report(y_test, preds))\n",
    "\n",
    "\n"
   ]
  },
  {
   "cell_type": "code",
   "execution_count": null,
   "id": "d564f418",
   "metadata": {},
   "outputs": [],
   "source": []
  }
 ],
 "metadata": {
  "kernelspec": {
   "display_name": "Python 3.11.9",
   "language": "python",
   "name": "py311"
  },
  "language_info": {
   "codemirror_mode": {
    "name": "ipython",
    "version": 3
   },
   "file_extension": ".py",
   "mimetype": "text/x-python",
   "name": "python",
   "nbconvert_exporter": "python",
   "pygments_lexer": "ipython3",
   "version": "3.11.9"
  }
 },
 "nbformat": 4,
 "nbformat_minor": 5
}
